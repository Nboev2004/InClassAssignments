{
  "nbformat": 4,
  "nbformat_minor": 0,
  "metadata": {
    "colab": {
      "provenance": [],
      "authorship_tag": "ABX9TyMWbyELytwm8+7McEw3AnhM",
      "include_colab_link": true
    },
    "kernelspec": {
      "name": "python3",
      "display_name": "Python 3"
    },
    "language_info": {
      "name": "python"
    }
  },
  "cells": [
    {
      "cell_type": "markdown",
      "metadata": {
        "id": "view-in-github",
        "colab_type": "text"
      },
      "source": [
        "<a href=\"https://colab.research.google.com/github/Nboev2004/InClassAssignments/blob/main/In_Class_Assignments.ipynb\" target=\"_parent\"><img src=\"https://colab.research.google.com/assets/colab-badge.svg\" alt=\"Open In Colab\"/></a>"
      ]
    },
    {
      "cell_type": "markdown",
      "source": [
        "Calculating the area of a closed cylinder"
      ],
      "metadata": {
        "id": "idY11huHpUYR"
      }
    },
    {
      "cell_type": "code",
      "source": [
        "pi = 3.14\n",
        "r = int(input(\"Enter the radius: \"))\n",
        "h = int(input(\"Enter the height: \"))\n",
        "area = (2*pi*r**2)+(2*pi*r*h)\n",
        "print(f\"Area of cylinder: {area} sq. ft\")"
      ],
      "metadata": {
        "colab": {
          "base_uri": "https://localhost:8080/"
        },
        "id": "Qry9T1DGpYF3",
        "outputId": "9ebcdd79-b9be-40f6-9295-883489b0727d"
      },
      "execution_count": null,
      "outputs": [
        {
          "output_type": "stream",
          "name": "stdout",
          "text": [
            "Enter the radius: 5\n",
            "Enter the height: 5\n",
            "Area of cylinder: 314.0 sq. ft\n"
          ]
        }
      ]
    }
  ]
}