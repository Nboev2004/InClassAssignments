{
  "nbformat": 4,
  "nbformat_minor": 0,
  "metadata": {
    "colab": {
      "provenance": [],
      "authorship_tag": "ABX9TyNdEJw7+uIbzl2ZTkUT27uS",
      "include_colab_link": true
    },
    "kernelspec": {
      "name": "python3",
      "display_name": "Python 3"
    },
    "language_info": {
      "name": "python"
    }
  },
  "cells": [
    {
      "cell_type": "markdown",
      "metadata": {
        "id": "view-in-github",
        "colab_type": "text"
      },
      "source": [
        "<a href=\"https://colab.research.google.com/github/Nboev2004/InClassAssignments/blob/main/In_Class_Assignments.ipynb\" target=\"_parent\"><img src=\"https://colab.research.google.com/assets/colab-badge.svg\" alt=\"Open In Colab\"/></a>"
      ]
    },
    {
      "cell_type": "markdown",
      "source": [
        "Calculating the area of a closed cylinder"
      ],
      "metadata": {
        "id": "idY11huHpUYR"
      }
    },
    {
      "cell_type": "code",
      "source": [
        "#In Class Assignment #1 - Cylinder area calculator\n",
        "pi = 3.14\n",
        "r = int(input(\"Enter the radius: \"))\n",
        "h = int(input(\"Enter the height: \"))\n",
        "area = (2*pi*r**2)+(2*pi*r*h)\n",
        "print(f\"Area of cylinder: {area} sq. ft\")"
      ],
      "metadata": {
        "colab": {
          "base_uri": "https://localhost:8080/"
        },
        "id": "Qry9T1DGpYF3",
        "outputId": "9ebcdd79-b9be-40f6-9295-883489b0727d"
      },
      "execution_count": null,
      "outputs": [
        {
          "output_type": "stream",
          "name": "stdout",
          "text": [
            "Enter the radius: 5\n",
            "Enter the height: 5\n",
            "Area of cylinder: 314.0 sq. ft\n"
          ]
        }
      ]
    },
    {
      "cell_type": "code",
      "source": [
        "#In Class Assignment #2 - Numerical calculator\n",
        "n1 = float (input(\"Please enter a number 1: \"))\n",
        "n2 = float (input(\"Please enter a number 2: \"))\n",
        "op = input(\"Please enter the operation: \")\n",
        "\n",
        "if op == \"+\":\n",
        "  print (n1 + n2)\n",
        "elif op == \"-\":\n",
        "  print (n1 - n2)\n",
        "elif op == \"*\":\n",
        "  print (n1 * n2)\n",
        "elif op == \"/\":\n",
        "  print (n1 / n2)\n",
        "elif op == \"//\":\n",
        "  print (n1 // n2)\n",
        "elif op == \"**\":\n",
        "  print (n1 ** n2)\n",
        "elif op == \"%\":\n",
        "  print (n1 % n2)\n",
        "else:\n",
        "  print (\"Invalid operator!\")\n"
      ],
      "metadata": {
        "id": "QzcNtzXuRcVa",
        "outputId": "5eb2de5d-3653-4755-b29c-251a82a1c8ba",
        "colab": {
          "base_uri": "https://localhost:8080/"
        }
      },
      "execution_count": null,
      "outputs": [
        {
          "output_type": "stream",
          "name": "stdout",
          "text": [
            "Please enter a number 1: 5\n",
            "Please enter a number 2: 5\n",
            "Please enter the operation: **\n",
            "3125.0\n"
          ]
        }
      ]
    },
    {
      "cell_type": "code",
      "source": [
        "#In Class Assignment #3 - Parking garage\n",
        "for numberHours in range (1,9):\n",
        "  fee = 5 + 2.5 * numberHours\n",
        "  if fee < 10:\n",
        "    fee = 10.0\n",
        "  elif fee > 20:\n",
        "    fee = 20.0\n",
        "  print (f\"Hours Worked: {numberHours} \\t Pay: {fee}\")\n"
      ],
      "metadata": {
        "colab": {
          "base_uri": "https://localhost:8080/"
        },
        "id": "SEzRiFXBG_YL",
        "outputId": "0848219a-ec80-4ea0-f515-91810d789568"
      },
      "execution_count": null,
      "outputs": [
        {
          "output_type": "stream",
          "name": "stdout",
          "text": [
            "Hours Worked: 1 \t Pay: 10.0\n",
            "Hours Worked: 2 \t Pay: 10.0\n",
            "Hours Worked: 3 \t Pay: 12.5\n",
            "Hours Worked: 4 \t Pay: 15.0\n",
            "Hours Worked: 5 \t Pay: 17.5\n",
            "Hours Worked: 6 \t Pay: 20.0\n",
            "Hours Worked: 7 \t Pay: 20.0\n",
            "Hours Worked: 8 \t Pay: 20.0\n"
          ]
        }
      ]
    },
    {
      "cell_type": "code",
      "source": [
        "#In Class Assignment #4 - Movie Theater\n",
        "for adMoney in range (0, 201, 25):\n",
        "  revenue = (20 + 2 * round(adMoney ** .5)) * 10\n",
        "  costs = 200 + adMoney\n",
        "  profit = revenue - costs\n",
        "  print (f\"Ad Money: {adMoney} \\t Revenue: {revenue} \\t Profit: {profit}\")"
      ],
      "metadata": {
        "colab": {
          "base_uri": "https://localhost:8080/"
        },
        "id": "CyMnfdnFHKjE",
        "outputId": "40326a0d-795c-44ba-9ced-6c1d72457e19"
      },
      "execution_count": null,
      "outputs": [
        {
          "output_type": "stream",
          "name": "stdout",
          "text": [
            "Ad Money: 0 \t Revenue: 200 \t Profit: 0\n",
            "Ad Money: 25 \t Revenue: 300 \t Profit: 75\n",
            "Ad Money: 50 \t Revenue: 340 \t Profit: 90\n",
            "Ad Money: 75 \t Revenue: 380 \t Profit: 105\n",
            "Ad Money: 100 \t Revenue: 400 \t Profit: 100\n",
            "Ad Money: 125 \t Revenue: 420 \t Profit: 95\n",
            "Ad Money: 150 \t Revenue: 440 \t Profit: 90\n",
            "Ad Money: 175 \t Revenue: 460 \t Profit: 85\n",
            "Ad Money: 200 \t Revenue: 480 \t Profit: 80\n"
          ]
        }
      ]
    },
    {
      "cell_type": "code",
      "source": [
        "#In Class Assignment #5 - Rock-Paper-Scissors\n",
        "def get_winner(player1, player2):\n",
        "    \"\"\"Determines the winner based on the custom Rock-Paper-Scissors rules.\"\"\"\n",
        "    winning_combinations = {\n",
        "        \"rock\": \"scissors\",\n",
        "        \"scissors\": \"paper\",\n",
        "        \"paper\": \"rock\"\n",
        "    }\n",
        "\n",
        "    if player1 == player2:\n",
        "        return \"It's a tie!\"\n",
        "    elif winning_combinations[player1] == player2:\n",
        "        return \"Player 1 wins!\"\n",
        "    else:\n",
        "        return \"Player 2 wins!\"\n",
        "\n",
        "def play_game():\n",
        "    \"\"\"Runs the game loop.\"\"\"\n",
        "    choices = [\"rock\", \"paper\", \"scissors\"]\n",
        "\n",
        "    while True:\n",
        "        print(\"\\n--- Rock-Paper-Scissors Game ---\")\n",
        "        player1 = input(\"Player 1, enter your choice (rock, paper, scissors): \").lower()\n",
        "        while player1 not in choices:\n",
        "            print(\"Invalid choice! Please enter rock, paper, or scissors.\")\n",
        "            player1 = input(\"Player 1, enter your choice: \").lower()\n",
        "\n",
        "        player2 = input(\"Player 2, enter your choice (rock, paper, scissors): \").lower()\n",
        "        while player2 not in choices:\n",
        "            print(\"Invalid choice! Please enter rock, paper, or scissors.\")\n",
        "            player2 = input(\"Player 2, enter your choice: \").lower()\n",
        "\n",
        "        print(f\"\\nPlayer 1 chose: {player1}\")\n",
        "        print(f\"Player 2 chose: {player2}\")\n",
        "\n",
        "        result = get_winner(player1, player2)\n",
        "        print(result)\n",
        "\n",
        "        play_again = input(\"Do you want to play again? (yes/no): \").lower()\n",
        "        if play_again != \"yes\":\n",
        "            print(\"Thanks for playing!\")\n",
        "            break\n",
        "\n",
        "if __name__ == \"__main__\":\n",
        "    play_game()"
      ],
      "metadata": {
        "colab": {
          "base_uri": "https://localhost:8080/"
        },
        "id": "Z3I8q9bNHVrN",
        "outputId": "c19bc147-1225-455f-a27c-5c3f4de0301d"
      },
      "execution_count": null,
      "outputs": [
        {
          "output_type": "stream",
          "name": "stdout",
          "text": [
            "\n",
            "--- Rock-Paper-Scissors Game ---\n",
            "Player 1, enter your choice (rock, paper, scissors): rock\n",
            "Player 2, enter your choice (rock, paper, scissors): paper\n",
            "\n",
            "Player 1 chose: rock\n",
            "Player 2 chose: paper\n",
            "Player 2 wins!\n",
            "Do you want to play again? (yes/no): no\n",
            "Thanks for playing!\n"
          ]
        }
      ]
    },
    {
      "cell_type": "code",
      "source": [
        "#In Class Assignment #6 - Append items to list iteratively2\n",
        "#create an empty list\n",
        "my_list = []\n",
        "\n",
        "#loop until user enters 0\n",
        "while True:\n",
        "  user_input = int(input(\"Enter a number: \"))\n",
        "  if user_input == 0:\n",
        "    break\n",
        "  my_list.append(user_input)\n",
        "\n",
        "my_list.sort(reverse=True)\n",
        "print(\"List in descending order:\", my_list)"
      ],
      "metadata": {
        "id": "SGQcfJChcz1V",
        "colab": {
          "base_uri": "https://localhost:8080/"
        },
        "outputId": "e71db3e5-59eb-4d3e-9cd6-e680d004a0c6"
      },
      "execution_count": null,
      "outputs": [
        {
          "output_type": "stream",
          "name": "stdout",
          "text": [
            "Enter a number: 2\n",
            "Enter a number: 2\n",
            "Enter a number: 2\n",
            "Enter a number: 2\n",
            "Enter a number: 2\n",
            "Enter a number: 2\n",
            "Enter a number: 3\n",
            "Enter a number: 2\n",
            "Enter a number: 2\n",
            "Enter a number: 0\n",
            "List in descending order: [3, 2, 2, 2, 2, 2, 2, 2, 2]\n"
          ]
        }
      ]
    },
    {
      "cell_type": "code",
      "source": [
        "#In Class Assignment #7 - Dynamic Dictionary of Number: Month Pairs\n",
        "months = {}\n",
        "\n",
        "numbers = [1,2,3,4,5,6,7,8,9,10,11,12]\n",
        "names = ['January','February','March','April','May','June','July','August','September','October','November','December']\n",
        "\n",
        "for i in range(len(numbers)):\n",
        "  months[numbers[i]] = names[i]\n",
        "\n",
        "months"
      ],
      "metadata": {
        "colab": {
          "base_uri": "https://localhost:8080/"
        },
        "id": "_X1AgOaG0q-2",
        "outputId": "6f889326-f024-43f8-9e88-bab31d472575"
      },
      "execution_count": null,
      "outputs": [
        {
          "output_type": "execute_result",
          "data": {
            "text/plain": [
              "{1: 'January',\n",
              " 2: 'February',\n",
              " 3: 'March',\n",
              " 4: 'April',\n",
              " 5: 'May',\n",
              " 6: 'June',\n",
              " 7: 'July',\n",
              " 8: 'August',\n",
              " 9: 'September',\n",
              " 10: 'October',\n",
              " 11: 'November',\n",
              " 12: 'December'}"
            ]
          },
          "metadata": {},
          "execution_count": 4
        }
      ]
    },
    {
      "cell_type": "code",
      "source": [
        "#In Class Assignment #8 - Dynamic Dictionary; 5 Distinct Key: Value Pairs\n",
        "counts = {}\n",
        "\n",
        "while len(counts) < 5:\n",
        "  key = input(\"Give a string: \")\n",
        "\n",
        "  if key not in counts:\n",
        "    counts[key] = 1\n",
        "  else:\n",
        "    counts[key] += 12\n",
        "counts\n"
      ],
      "metadata": {
        "colab": {
          "base_uri": "https://localhost:8080/"
        },
        "id": "mn2CTKc003Be",
        "outputId": "dc9f37f8-25a9-4876-f0e1-6e3b3b583376"
      },
      "execution_count": null,
      "outputs": [
        {
          "name": "stdout",
          "output_type": "stream",
          "text": [
            "Give a string: 2\n",
            "Give a string: 2\n",
            "Give a string: 2\n",
            "Give a string: 2\n",
            "Give a string: 2\n",
            "Give a string: 5\n",
            "Give a string: 6\n",
            "Give a string: 7\n",
            "Give a string: 2\n",
            "Give a string: 2\n",
            "Give a string: 3\n"
          ]
        },
        {
          "output_type": "execute_result",
          "data": {
            "text/plain": [
              "{'2': 73, '5': 1, '6': 1, '7': 1, '3': 1}"
            ]
          },
          "metadata": {},
          "execution_count": 5
        }
      ]
    },
    {
      "cell_type": "code",
      "source": [
        "#In Class Assignment #9 - Parking Garage: calcFee Function\n",
        "def displayFee (fee):\n",
        "  print(fee)\n",
        "\n",
        "def calcFee (hours, decimals=2) :\n",
        "  fee = 5 + hours * 2.5\n",
        "  fee = round(fee, decimals)\n",
        "  return fee\n",
        "\n",
        "if __name__ == \"__main__\":\n",
        "  h = int(input('Enter number of hours: '))\n",
        "  displayFee(calcFee(h))"
      ],
      "metadata": {
        "colab": {
          "base_uri": "https://localhost:8080/"
        },
        "id": "UKVlIBkd1FIt",
        "outputId": "4f52b38b-da87-48df-8594-9b4eefd9d16c"
      },
      "execution_count": null,
      "outputs": [
        {
          "output_type": "stream",
          "name": "stdout",
          "text": [
            "Enter number of hours: 22\n",
            "60.0\n"
          ]
        }
      ]
    },
    {
      "cell_type": "code",
      "source": [
        "#In Class Assignment #10 - Recursive function: string reversal\n",
        "def reverse (s) :\n",
        "  if len (s) == 1:\n",
        "    return s\n",
        "  else:\n",
        "      return s[-1] + reverse (s [1:-1]) + s[0]\n",
        "      return reverse (s [1:]) + s[0]\n",
        "      return s[-1] + reverse (s[:-1])\n",
        "reverse('Hello')"
      ],
      "metadata": {
        "colab": {
          "base_uri": "https://localhost:8080/",
          "height": 35
        },
        "id": "6KDifQ6LB8Nr",
        "outputId": "0204edd6-77ba-4bc4-bc72-cf7c74c75eed"
      },
      "execution_count": null,
      "outputs": [
        {
          "output_type": "execute_result",
          "data": {
            "text/plain": [
              "'olleH'"
            ],
            "application/vnd.google.colaboratory.intrinsic+json": {
              "type": "string"
            }
          },
          "metadata": {},
          "execution_count": 1
        }
      ]
    },
    {
      "cell_type": "code",
      "source": [
        "#In Class Assignment #11 - Parking garage/1st question of Assignment II using exception handling\n",
        "def calcFee (hours) :\n",
        "  assert hours >= O, \"The number of hours should be non-negative...\"\n",
        "  fee = 5 + 2.5 * hours\n",
        "  if fee < 10:\n",
        "    fee = 10.0\n",
        "  elif fee > 20:\n",
        "    fee = 20.0\n",
        "  print(f'Fee: {fee}$')\n",
        "\n",
        "def main () :\n",
        "  try:\n",
        "    numHours = int (input ('Enter number of hours: '))\n",
        "    calcFee (numHours)\n",
        "  except ValueError:\n",
        "    print ('Cannot cast to int ().')\n",
        "  #except:\n",
        "  # print ('Unknown error...')\\\n",
        "\n",
        "if __name__ == \"__main__ \":\n",
        "  main ()\n",
        "\n",
        "def getValues (n) :\n",
        "  L = []\n",
        "  for i in range (n) :\n",
        "    weight = float (input ('Enter weight: '))\n",
        "    L. append (weight)\n",
        "  return L\n",
        "def calcAverage (alist) :\n",
        "  try:\n",
        "    print (f'The average weight is: {sum(alist [2:]) / len (alist [2:1]) }')\n",
        "  except ZeroDivisionError:\n",
        "    print (f'List (alist) is empty!')\n",
        "\n",
        "if __name__ == \"__main__\":\n",
        "  try:\n",
        "    n = int (input ('Enter size of list: '))\n",
        "    alist = getValues (n)\n",
        "    calcAverage (alist)\n",
        "\n",
        "  except ValueError:\n",
        "    print ('Input cannot be casted as an int () ')"
      ],
      "metadata": {
        "colab": {
          "base_uri": "https://localhost:8080/"
        },
        "id": "uhq2ynPCCWG4",
        "outputId": "9947bef9-fe36-4fc9-ec9f-e43a78b82cdb"
      },
      "execution_count": null,
      "outputs": [
        {
          "output_type": "stream",
          "name": "stdout",
          "text": [
            "Enter size of list: 3\n",
            "Enter weight: 3\n",
            "Enter weight: 2\n",
            "Enter weight: 3\n",
            "List (alist) is empty!\n"
          ]
        }
      ]
    },
    {
      "cell_type": "code",
      "source": [
        "#In Class Assignment #12 - Greeting class\n",
        "class Greeting:\n",
        "  def __init__ (self, first, last):\n",
        "    self. first = first\n",
        "    self. last = last\n",
        "def display (self, formal=False) :\n",
        "  if formal:\n",
        "    print (f'Hi {self.first} {self.last}')\n",
        "  else:\n",
        "    print (f'Hi {self.first}')\n",
        "def __str__ (self):\n",
        "  return \"ll, l}\". format (self.first, self.last)\n",
        "  return f'{self.first}, {self.last}'\n",
        "  return str (self. first) + \",\" + str (self.last)\n",
        "\n",
        "greeting = Greeting ('Donald', 'Becker')\n",
        "greeting2 = Greeting ('Bob', 'Dylan')\n",
        "print(greeting)\n",
        "print(greeting2)"
      ],
      "metadata": {
        "colab": {
          "base_uri": "https://localhost:8080/"
        },
        "id": "oGKfIdJREICF",
        "outputId": "552333f2-eaab-4732-a379-9d341aa4a37a"
      },
      "execution_count": null,
      "outputs": [
        {
          "output_type": "stream",
          "name": "stdout",
          "text": [
            "<__main__.Greeting object at 0x7e1768102dd0>\n",
            "<__main__.Greeting object at 0x7e177870dbd0>\n"
          ]
        }
      ]
    },
    {
      "cell_type": "code",
      "source": [
        "#In Class Assignment #13 - Student class\n",
        "class Student:\n",
        "  def __init__(self, name, number):\n",
        "    self. name = name\n",
        "    self. number = number\n",
        "    self. courses = []\n",
        "  def enroll (self, newCourse) :\n",
        "    if newCourse not in self. courses:\n",
        "      self.__courses.append(newCourse)\n",
        "    else:\n",
        "      print (f'You have already enrolled in {newCourse}')\n",
        "\n",
        "  def get_courses(self):\n",
        "    return self.__courses\n"
      ],
      "metadata": {
        "id": "sBWRimPxFL-p"
      },
      "execution_count": null,
      "outputs": []
    },
    {
      "cell_type": "code",
      "source": [
        "#In Class Assignment #14 - Classes Point and Rectangle\n",
        "import math\n",
        "\n",
        "class Point:\n",
        "  def __init__(self, x, y):\n",
        "    self.x = x\n",
        "    self.y = y\n",
        "\n",
        "  def distance(self, other):\n",
        "    dx = (self.x - other.x) ** 2\n",
        "    dy = (self.y - other.y) ** 2\n",
        "    dist = math.sqrt(dx + dy)\n",
        "    return dist\n",
        "\n",
        "p1= Point(1, 7)\n",
        "p2= Point(4, 3)\n",
        "p1.distance(p2)\n",
        "\n",
        "class Rectangle:\n",
        "  def __init__(self):\n",
        "    self.c1 = Point(0, 0)\n",
        "    self.c2 = Point(0, 2)\n",
        "    self.c3 = Point(2, 0)\n",
        "    self.c4 = Point(2, 2)\n",
        "    self.width = self.calculate_width()\n",
        "    self.length = self.calculate_length()\n",
        "\n",
        "  def calculate_width(self):\n",
        "    return self.c1.distance(self.c3)\n",
        "\n",
        "  def calculate_length(self):\n",
        "    return self.c1.distance(self.c2)\n",
        "\n",
        "  def area(self):\n",
        "    return f'Area = {self.width * self.length} sq. ft'\n",
        "\n",
        "square = Rectangle()\n",
        "square.area()"
      ],
      "metadata": {
        "colab": {
          "base_uri": "https://localhost:8080/",
          "height": 35
        },
        "id": "TNJB6bI1_hY3",
        "outputId": "36038d4b-af26-48ea-d6f0-3cf9ea0d9e64"
      },
      "execution_count": null,
      "outputs": [
        {
          "output_type": "execute_result",
          "data": {
            "text/plain": [
              "'Area = 4.0 sq. ft'"
            ],
            "application/vnd.google.colaboratory.intrinsic+json": {
              "type": "string"
            }
          },
          "metadata": {},
          "execution_count": 12
        }
      ]
    }
  ]
}